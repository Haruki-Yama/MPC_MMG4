{
 "cells": [
  {
   "cell_type": "markdown",
   "id": "a059ba8e",
   "metadata": {},
   "source": [
    "# MPC（モデル予測制御）をMMG4に適用する"
   ]
  },
  {
   "cell_type": "markdown",
   "id": "0ba965af",
   "metadata": {},
   "source": [
    "# MMG4モデルの関数"
   ]
  },
  {
   "cell_type": "code",
   "execution_count": 246,
   "id": "cf33d5ef",
   "metadata": {},
   "outputs": [],
   "source": [
    "def X_H(u,v,r,φ):\n",
    "    U=np.sqrt(u**2+v**2)\n",
    "    β=np.arctan(-v/u)\n",
    "    r_dash=r*L_pp/U\n",
    "    return 0.5*ρ*L_pp*d*U**2*X_H_dash(v,r_dash,φ)\n",
    "\n",
    "def Y_H(u,v,r,φ):\n",
    "    U=np.sqrt(u**2+v**2)\n",
    "    β=np.arctan(-v/u)\n",
    "    r_dash=r*L_pp/U\n",
    "    return 0.5*ρ*L_pp*d*U**2*Y_H_dash(v,r_dash,φ)\n",
    "\n",
    "def N_H(u,v,r,φ):\n",
    "    U=np.sqrt(u**2+v**2)\n",
    "    β=np.arctan(-v/u)\n",
    "    r_dash=r*L_pp/U\n",
    "    return 0.5*ρ*L_pp*d*U**2*N_H_dash(v,r_dash,φ)\n",
    "\n",
    "def K_H(u,v,r,φ):\n",
    "    U=np.sqrt(u**2+v**2)\n",
    "    β=np.arctan(-v/u)\n",
    "    r_dash=r*L_pp/U\n",
    "    return -0.5*ρ*L_pp*d*U**2*K_H_dash(v,r_dash,φ)\n"
   ]
  },
  {
   "cell_type": "code",
   "execution_count": 247,
   "id": "c75e2891",
   "metadata": {},
   "outputs": [],
   "source": [
    "\n",
    "\n",
    "def X_H_dash(v_dash,r_dash,φ):\n",
    "    return X_0_dash * (1 + c_x0 * (-φ)) + X_rφ_dash * r_dash * φ + X_vv_dash * (1 + c_xββ * (-φ)) * (v_dash**2) + (X_vr_dash - m_y_dash) * v_dash * r_dash + X_rr_dash * (1 + c_xrr * (-φ)) * (r_dash**2) + X_vvvv_dash * (v_dash**4)\n",
    "\n",
    "\n",
    "def Y_H_dash(v_dash,r_dash,φ):\n",
    "    return Y_φ_dash * φ + Y_v_dash * (1 + c_yβ * (-φ)) * v_dash + (Y_r_dash - m_x_dash) * (1 + c_yr * (-φ)) * r_dash + Y_vvφ_dash * (v_dash**2) * φ + Y_vrφ_dash * v_dash * r_dash * φ + Y_rrφ_dash * (r_dash**2) * φ + Y_vvv_dash * (v_dash**3) + Y_vvr_dash * (v_dash**2) * r_dash + Y_vrr_dash * v_dash * (r_dash**2) + Y_rrr_dash * (r_dash**3)\n",
    "\n",
    "def N_H_dash(v_dash,r_dash,φ):\n",
    "    return N_φ_dash * φ + N_v_dash * (1 + c_nβ * (-φ)) * v_dash + N_r_dash * (1 + c_nr * (-φ)) * r_dash + N_vvφ_dash * (v_dash**2) * φ + N_vrφ_dash * v_dash * r_dash * φ + N_rrφ_dash * (r_dash**2) * φ + N_vvv_dash * (v_dash**3) + N_vvr_dash * (v_dash**2) * r_dash + N_vrr_dash * v_dash * (r_dash**2) + N_rrr_dash * (r_dash**3)\n",
    "\n",
    "def K_H_dash(v_dash,r_dash,φ):\n",
    "    return K_φ_dash * φ + K_v_dash * v_dash + K_r_dash * r_dash + K_vvφ_dash * (v_dash**2) * φ + K_vrφ_dash * v_dash * r_dash * φ + K_rrφ_dash * (r_dash**2) * φ + K_vvv_dash * (v_dash**3) + K_vvr_dash * (v_dash**2) * r_dash + K_vrr_dash * v_dash * (r_dash**2) + K_rrr_dash * (r_dash**3) + K_vvr_dash * (v_dash**2) * r_dash + K_vrr_dash * v_dash * (r_dash**2) + K_rrr_dash * (r_dash**3)\n"
   ]
  },
  {
   "cell_type": "code",
   "execution_count": 248,
   "id": "c9eb76d2",
   "metadata": {},
   "outputs": [],
   "source": [
    "def X_R(u,v,δ,n_p,φ):\n",
    "    return -(1-t_P)*F_N(u,v,δ,n_p)*np.sin(δ)*np.cos(φ)\n",
    "\n",
    "def Y_R(u,v,δ,n_p,φ):\n",
    "    return -(1+a_H)*F_N(u,v,δ,n_p)*np.cos(δ)*np.cos(φ)\n",
    "\n",
    "def N_R(u,v,δ,n_p,φ):\n",
    "    return -(x_R+a_H*x_H)*F_N(u,v,δ,n_p)*np.cos(δ)*np.cos(φ)\n",
    "\n",
    "def K_T(u,n_p):\n",
    "    return k_0+k_1*J(u,n_p)+k_2*J(u,n_p)**2\n",
    "\n",
    "def J(u,n_p):\n",
    "    return u*(1-w_P0)/(n_p*D_p)\n",
    "\n",
    "def T_P(u,n_p):\n",
    "    return K_T(u,n_p)*ρ*n_p**2*D_p**4\n",
    "\n",
    "def F_N(u,v,δ,n_p):\n",
    "    u_p=(1-w_P0)*u\n",
    "    u_inf=u_p*np.sqrt(1+(8*K_T(u,n_p))/(np.pi*J(u,n_p)**2))\n",
    "    k_x=κ*ϵ\n",
    "    delta_u=u_inf-u_p\n",
    "    u_RP=u_p+k_x*delta_u\n",
    "    u_R=np.sqrt(η*u_RP**2+(1-η)*u_p**2)\n",
    "    U=np.sqrt(u**2+v**2)\n",
    "    β=np.arctan(-v/U)\n",
    "    r_dash=r*L_pp/U\n",
    "    v_R=U*γ_R_plus*(β-l_r_dash*r_dash)\n",
    "    α_R=δ-np.arctan(v_R/u_R)\n",
    "    return 0.5*ρ*A_R*u_R**2*f_α*np.sin(α_R)\n",
    "\n",
    "def X_P(u,n_p):\n",
    "    return (1-t_R)*ρ*K_T(u,n_p)*n_p**2*D_p**4\n"
   ]
  },
  {
   "cell_type": "code",
   "execution_count": 249,
   "id": "1aee2109",
   "metadata": {},
   "outputs": [],
   "source": [
    "import numpy as np\n",
    "import do_mpc\n",
    "from casadi import *\n",
    "\n",
    "import matplotlib.pyplot as plt\n",
    "import matplotlib as mpl\n",
    "\n",
    "mpl.rcParams['font.size'] = 18\n",
    "mpl.rcParams['lines.linewidth'] = 3\n",
    "mpl.rcParams['axes.grid'] = True"
   ]
  },
  {
   "cell_type": "markdown",
   "id": "33f087ae",
   "metadata": {},
   "source": [
    "モデルの種類の決定"
   ]
  },
  {
   "cell_type": "code",
   "execution_count": 250,
   "id": "95ba0212",
   "metadata": {},
   "outputs": [],
   "source": [
    "model_type = 'continuous' # either 'discrete' or 'continuous'\n",
    "model = do_mpc.model.Model(model_type)"
   ]
  },
  {
   "cell_type": "markdown",
   "id": "76ae34dc",
   "metadata": {},
   "source": [
    "# 変数の設定\n",
    "入出力の変数設定\n",
    "- 状態量 : var_type='_x'\n",
    "- 操作量 : var_type='_u'  \n",
    "$ δ $ : 舵角  \n",
    "$ n_p $ : プロペラ回転数  \n",
    "$ u $ : 船首方向の船速  \n",
    "$ v $ : 横方向の船速  \n",
    "$ r $ : 旋回角速度  \n",
    "$ x, y $ : 船の座標  \n",
    "$ ψ $ : 船首角(船首とx軸正の向きの角度)  "
   ]
  },
  {
   "cell_type": "code",
   "execution_count": 251,
   "id": "96f51c28",
   "metadata": {},
   "outputs": [],
   "source": [
    "δ = model.set_variable(var_type='_u', var_name='δ', shape=(1,1)) #舵角\n",
    "n_p=model.set_variable(var_type='_u',var_name='n_p',shape=(1,1)) #プロペラ回転数\n",
    "\n",
    "u = model.set_variable(var_type='_x', var_name='u', shape=(1,1)) #前後方向速度\n",
    "v = model.set_variable(var_type='_x', var_name='v', shape=(1,1)) #横方向速度\n",
    "r = model.set_variable(var_type='_x', var_name='r', shape=(1,1)) #回頭角速度\n",
    "x = model.set_variable(var_type='_x', var_name='x', shape=(1,1)) #船のx座標\n",
    "y = model.set_variable(var_type='_x', var_name='y', shape=(1,1)) #船のy座標\n",
    "ψ = model.set_variable(var_type='_x', var_name='ψ', shape=(1,1)) #船首角(x軸正の方向となす角)\n",
    "φ = model.set_variable(var_type='_x', var_name='φ', shape=(1,1)) #横傾斜角\n",
    "d_φ=model.set_variable(var_type='_x',var_name='d_φ',shape=(1,1)) #横傾斜角の微分"
   ]
  },
  {
   "cell_type": "markdown",
   "id": "5ea739df",
   "metadata": {},
   "source": [
    "##### パラメータの設定\n",
    "時間によって変化しないパラメータを設定する"
   ]
  },
  {
   "cell_type": "code",
   "execution_count": 252,
   "id": "54d0566b",
   "metadata": {},
   "outputs": [],
   "source": [
    "ρ = 1025.0  # 海水密度\n",
    "\n",
    "# KCS Container Ship\n",
    "L_pp = 2.1905  # 船長Lpp[m]\n",
    "B = 0.3067  # 船幅[m]\n",
    "d = 0.1029  # 喫水[m]\n",
    "nabla = 0.0449  # 排水量[m^3]　\n",
    "x_G = -0.03242  # 重心位置[m] \n",
    "# C_b = 0.810  # 方形係数[-]\n",
    "D_p = 0.0756  # プロペラ直径[m]\n",
    "H_R = 0.0954  # 舵高さ[m]　\n",
    "A_R = 0.0042076  # 舵断面積[m^2]\n",
    "\n",
    "t_P = 0.178  # 推力減少率\n",
    "w_P0 = 0.353  # 有効伴流率\n",
    "m_x_dash = 0.0060  # 付加質量x(無次元)　\n",
    "m_y_dash = 0.1521  # 付加質量y(無次元)　\n",
    "# J_z_dash = 0.011  # 付加質量Izz(無次元)　まだ\n",
    "J_z_dash = 0.005  # 付加質量Izz(無次元)　まだ\n",
    "t_R = 0.441  # 操縦抵抗減少率\n",
    "x_R_dash = -0.500  # 舵の相対位置\n",
    "a_H = 0.232  # 舵力増加係数\n",
    "x_H_dash = -0.711  # 舵力増分作用位置\n",
    "γ_R_minus = 0.412  # 整流係数　まだ　\n",
    "γ_R_plus = 0.412  # 整流係数　まだ\n",
    "l_r_dash = -0.774  # 船長に対する舵位置\n",
    "x_P_dash = -0.480  # 船長に対するプロペラ位置　まだ 多分これでok\n",
    "ϵ = 0.900  # プロペラ・舵位置伴流係数比\n",
    "κ = 0.713  # 修正係数\n",
    "f_α = 3.0081  # 直圧力勾配係数　教科書p24\n",
    "\n",
    "# 追加\n",
    "z_G = 0.01 #船体上下重心位置\n",
    "a = 0.1 #横揺れ減衰曲線の線形係数\n",
    "GM = 0.6\n",
    "# C_44 = 9.81 * m * GM #復原力係数 OK(7/19)\n",
    "# I_xx = 0.270568\n",
    "# J_xx = 0.004666\n",
    "# B_44 = (2 * a) / np.pi * np.sqrt(C_44 * (I_xx + J_xx)) #横揺れ減衰係数\n",
    "\n",
    "C_44=9.81 * ρ * nabla * GM\n",
    "I_xx=ρ * nabla * ((0.25 * B) ** 2)\n",
    "J_xx=(0.5 * ρ * (B ** 4) * d) * 0.01\n",
    "B_44=(2 * a) / np.pi * np.sqrt((9.81 * ρ * nabla * GM) * ((ρ * nabla * ((0.25 * B) ** 2)) + J_xx))\n",
    "m=ρ * nabla  # 質量(無次元化)[kg]\n",
    "I_zG=ρ * nabla * ((0.25 * L_pp) ** 2)  # 慣性モーメント[-]\n",
    "η=D_p / H_R # プロペラ直径に対する舵高さ(Dp/H)\n",
    "m_x=(0.5 * ρ * (L_pp ** 2) * d) * m_x_dash  # 付加質量x(無次元)\n",
    "m_y=(0.5 * ρ * (L_pp ** 2) * d) * m_y_dash  # 付加質量y(無次元)\n",
    "J_z=(0.5 * ρ * (L_pp ** 4) * d) * J_z_dash  # 付加質量Izz(無次元)\n",
    "x_H=x_H_dash * L_pp  # 舵力増分作用位置\n",
    "x_R=x_R_dash * L_pp  # 舵の相対位置\n",
    "\n",
    "\n",
    "z_R = 0.08 #舵の幾何学的図心 OK (7/19)\n",
    "z_H = 0.05145 #喫水中央 OK (7/19)\n",
    "c_x0 = -0.12\n",
    "# x\n",
    "c_xββ = 2.31               \n",
    "c_xrr = 3.50\n",
    "# y\n",
    "c_yβ = 0.05 \n",
    "c_yr = -1.20\n",
    "c_nβ = 0.21\n",
    "c_nr = -0.32\n",
    "\n",
    "k_0 = 0.50278\n",
    "k_1 = -0.29546\n",
    "k_2 = -0.18095\n",
    "R_0_dash = 0.0183\n",
    "X_0_dash = -0.0183\n",
    "X_rφ_dash = 0.0258\n",
    "X_vv_dash = -0.0603\n",
    "X_vr_dash = -(-0.1218 + m_y_dash)\n",
    "X_rr_dash = -0.0162\n",
    "X_vvvv_dash = -0.0760\n",
    "Y_φ_dash = -0.0052\n",
    "Y_v_dash = -0.2162\n",
    "Y_r_dash = 0.0245 + m_x_dash\n",
    "Y_vvφ_dash = 0.3352\n",
    "Y_vrφ_dash = -0.3123\n",
    "Y_rrφ_dash = -0.0642\n",
    "Y_vvv_dash = -1.7028\n",
    "Y_vvr_dash = -0.5658\n",
    "Y_vrr_dash = -0.8564\n",
    "Y_rrr_dash = -0.0105\n",
    "N_φ_dash = -0.0063\n",
    "N_v_dash = -0.1172\n",
    "N_r_dash = -0.0443\n",
    "N_vvφ_dash = -0.2532\n",
    "N_vrφ_dash = -0.1152\n",
    "N_rrφ_dash = -0.0120\n",
    "N_vvv_dash = -0.1710\n",
    "N_vvr_dash = -0.5602\n",
    "N_vrr_dash = -0.0200\n",
    "N_rrr_dash = -0.0369\n",
    "K_φ_dash = -0.0299\n",
    "K_v_dash = 0.1367\n",
    "K_r_dash = 0.0085\n",
    "K_vvφ_dash = 0.2819\n",
    "K_vrφ_dash = -0.2997\n",
    "K_rrφ_dash = -0.0487\n",
    "K_vvv_dash = 1.4352\n",
    "K_vvr_dash = 1.1636\n",
    "K_vrr_dash = 0.4233\n",
    "K_rrr_dash = 0.0363"
   ]
  },
  {
   "cell_type": "markdown",
   "id": "e15585da",
   "metadata": {},
   "source": [
    "### 微分方程式の設定\n",
    "\n",
    "$\n",
    "\\displaystyle\n",
    "\\dot{u}=\\frac{X_H+X_R+X_P+(m+m_y)vr}{m+m_x}  \\\\\n",
    "\\displaystyle\n",
    "\\dot{v}=\\frac{Y_H+Y_R-(m+m_x)ur}{m+m_y}  \\\\\n",
    "\\displaystyle\n",
    "\\dot{r}=\\frac{N_H+N_R-x_G(Y_H+Y_R)}{I_Z+J_Z}  \\\\\n",
    "\\displaystyle\n",
    "\\dot{x}=u\\cos{\\psi}-v\\sin{\\psi}  \\\\\n",
    "\\displaystyle\n",
    "\\dot{y}=u\\sin{\\psi}+v\\cos{\\psi}  \\\\\n",
    "\\displaystyle\n",
    "\\dot{\\psi}=r  \\\\\n",
    "\\displaystyle\n",
    "(I_x+J_x)\\ddot{\\phi}-(z_H-z_G)(m_y\\dot{v}+m_xur)=K_H+z_GY_H-B_{44}\\dot{\\phi}-C_{44}\\phi-(z_R-z_G)Y_R  \\\\\n",
    "$"
   ]
  },
  {
   "cell_type": "code",
   "execution_count": 253,
   "id": "f5d751aa",
   "metadata": {},
   "outputs": [],
   "source": [
    "rad = np.pi / 180 #rad変換"
   ]
  },
  {
   "cell_type": "code",
   "execution_count": 254,
   "id": "3f34052a",
   "metadata": {},
   "outputs": [],
   "source": [
    "model.set_rhs('u', (X_H(u,v,r,φ)+X_R(u,v,δ,n_p,φ)+X_P(u,n_p)+(m+m_y)*v*r)/(m+m_x))\n",
    "model.set_rhs('v', (Y_H(u,v,r,φ)+Y_R(u,v,δ,n_p,φ))/(m+m_y))\n",
    "model.set_rhs('r', (N_H(u,v,r,φ)+N_R(u,v,δ,n_p,φ)-x_G*(Y_H(u,v,r,φ)+Y_R(u,v,δ,n_p,φ)))/(I_zG+J_z))\n",
    "model.set_rhs('x', u * np.cos(ψ) - v * np.sin(ψ))\n",
    "model.set_rhs('y', u * np.sin(ψ) + v * np.cos(ψ))\n",
    "model.set_rhs('ψ', r)\n",
    "\n",
    "model.set_rhs('φ', d_φ)\n",
    "d_φ_next = -(K_H(u,v,r,φ)+z_G*Y_H(u,v,r,φ)-B_44*d_φ*rad-C_44*φ*rad-(z_R-z_G)*Y_R(u,v,δ,n_p,φ)+(z_H-z_G)*(m_y*((Y_H(u,v,r,φ)+Y_R(u,v,δ,n_p,φ))/(m+m_y))+m_x*u*r))/((I_xx+J_xx)*rad)\n",
    "model.set_rhs('d_φ', d_φ_next)"
   ]
  },
  {
   "cell_type": "code",
   "execution_count": 255,
   "id": "1dc068e8",
   "metadata": {},
   "outputs": [],
   "source": [
    "# d_φ_next = (K_H(u,v,r,φ)+z_G*Y_H(u,v,r,φ)-B_44*d_φ-C_44*φ-(z_R-z_G)*Y_R(u,v,δ,n_p,φ)+(z_H-z_G)*(m_y*((Y_H(u,v,r,φ)+Y_R(u,v,δ,n_p,φ))/(m+m_y))+m_x*u*r0))/(I_xx+J_xx)\n",
    "# model.set_rhs('d_φ', d_φ_next)"
   ]
  },
  {
   "cell_type": "code",
   "execution_count": 256,
   "id": "2a384311",
   "metadata": {},
   "outputs": [],
   "source": [
    "model.setup()"
   ]
  },
  {
   "cell_type": "markdown",
   "id": "64c77eab",
   "metadata": {},
   "source": [
    "## MPCコントローラの形成"
   ]
  },
  {
   "cell_type": "code",
   "execution_count": 257,
   "id": "545872e9",
   "metadata": {},
   "outputs": [],
   "source": [
    "mpc = do_mpc.controller.MPC(model)\n",
    "\n",
    "n_horizon = 30\n",
    "t_step = 1.0\n",
    "n_robust = 1 # default to 0\n",
    "store_full_solution = True\n",
    "\n",
    "setup_mpc = {\n",
    "    'n_horizon': n_horizon,\n",
    "    't_step': t_step,\n",
    "    'n_robust': n_robust,\n",
    "    'store_full_solution': store_full_solution,\n",
    "}\n",
    "mpc.set_param(**setup_mpc)"
   ]
  },
  {
   "cell_type": "markdown",
   "id": "002d6562",
   "metadata": {},
   "source": [
    "### 評価関数の設定"
   ]
  },
  {
   "cell_type": "markdown",
   "id": "1fd4277a",
   "metadata": {},
   "source": [
    "$\n",
    "C=\\sum_{k=0}^{n-1}(\\underbrace{l\\left(x_{k}, u_{k}, z_{k}, p\\right)}_{\\text {lagrange term }}+\\underbrace{\\Delta u_{k}^{T} R \\Delta u_{k}}_{\\text {r-term }})+\\underbrace{m\\left(x_{n}\\right)}_{\\text {meyer term }}\n",
    "$\n",
    "\n",
    "今回は、目標軌道を追従するような目的関数を設定する"
   ]
  },
  {
   "cell_type": "markdown",
   "id": "9c634432",
   "metadata": {},
   "source": [
    "時刻kごとに目標座標$x_k^{ref},y_k^{ref}$を変化させることで軌道追従ができる \n",
    "\n",
    "$lagrange term=\\sum_{k=0}^{n-1}((x_k-x_k^{ref})^2+(y_k-y_k^{ref})^2)$  \n",
    "$r-term=\\Delta u_k^TR\\Delta u_k$  \n",
    "$meyer=(x_n-x_n^{ref})^2+(y_n-y_n^{ref})^2$"
   ]
  },
  {
   "cell_type": "code",
   "execution_count": 258,
   "id": "d235021a",
   "metadata": {},
   "outputs": [],
   "source": [
    "target_r=0.05\n",
    "lterm=(r-target_r)**2\n",
    "mterm=lterm\n",
    "mpc.set_objective(mterm=mterm,lterm=lterm)"
   ]
  },
  {
   "cell_type": "markdown",
   "id": "d6b3ef55",
   "metadata": {},
   "source": [
    "$\\Delta u_k^TR\\Delta u_k$の設定"
   ]
  },
  {
   "cell_type": "code",
   "execution_count": 259,
   "id": "9c7e0496",
   "metadata": {},
   "outputs": [],
   "source": [
    "mpc.set_rterm(δ = 1e-3)"
   ]
  },
  {
   "cell_type": "markdown",
   "id": "e606213a",
   "metadata": {},
   "source": [
    "### 変数の制約"
   ]
  },
  {
   "cell_type": "code",
   "execution_count": 260,
   "id": "1fabb6b1",
   "metadata": {},
   "outputs": [],
   "source": [
    "mpc.bounds['lower','_u', 'δ'] = - 45 * np.pi / 180\n",
    "mpc.bounds['upper','_u', 'δ'] = 45 * np.pi / 180\n",
    "mpc.bounds['lower','_x','u']=0.0\n",
    "mpc.bounds['upper','_x','u']=15.0\n",
    "mpc.bounds['lower','_x','v']=-5.0\n",
    "mpc.bounds['upper','_x','v']=5.0\n",
    "mpc.bounds['lower','_u','n_p']=0.0\n",
    "mpc.bounds['upper','_u','n_p']=20.0\n",
    "mpc.bounds['lower','_x','φ']=-0.5\n",
    "mpc.bounds['upper','_x','φ']=0.5"
   ]
  },
  {
   "cell_type": "code",
   "execution_count": 261,
   "id": "52f1fd1e",
   "metadata": {},
   "outputs": [],
   "source": [
    "mpc.setup()"
   ]
  },
  {
   "cell_type": "markdown",
   "id": "1acaa907",
   "metadata": {},
   "source": [
    "## シミュレータの設定"
   ]
  },
  {
   "cell_type": "code",
   "execution_count": 262,
   "id": "63bf0ffa",
   "metadata": {},
   "outputs": [],
   "source": [
    "simulator = do_mpc.simulator.Simulator(model)"
   ]
  },
  {
   "cell_type": "code",
   "execution_count": 263,
   "id": "bdb47b91",
   "metadata": {},
   "outputs": [],
   "source": [
    "simulator.set_param(t_step = 1)"
   ]
  },
  {
   "cell_type": "code",
   "execution_count": 264,
   "id": "e0fd5166",
   "metadata": {},
   "outputs": [],
   "source": [
    "simulator.setup()"
   ]
  },
  {
   "cell_type": "markdown",
   "id": "0b565808",
   "metadata": {},
   "source": [
    "## コントロールループの設定\n",
    "\n",
    "### 初期値の設定"
   ]
  },
  {
   "cell_type": "markdown",
   "id": "09fa3355",
   "metadata": {},
   "source": [
    "状態量の初期値を設定する.  \n",
    "最初に設定した状態量の変数すべてに初期値を設定する必要がある  \n",
    "その初期値をsimulatorとmpcの両方に設定する"
   ]
  },
  {
   "cell_type": "code",
   "execution_count": 265,
   "id": "66a3ed99",
   "metadata": {},
   "outputs": [],
   "source": [
    "x0 = np.array([3.0, 0.0, 0.0, 0.0, 0.0, 0.0, 0.0, 0.0]).reshape(-1,1)\n",
    "simulator.x0 = x0\n",
    "mpc.x0 = x0\n",
    "mpc.set_initial_guess()"
   ]
  },
  {
   "cell_type": "code",
   "execution_count": 266,
   "id": "e27a27fa",
   "metadata": {},
   "outputs": [
    {
     "data": {
      "text/plain": [
       "['u', 'v', 'r', 'x', 'y', 'ψ', 'φ', 'd_φ']"
      ]
     },
     "execution_count": 266,
     "metadata": {},
     "output_type": "execute_result"
    }
   ],
   "source": [
    "mpc.x0.keys()"
   ]
  },
  {
   "cell_type": "markdown",
   "id": "ec176dc6",
   "metadata": {},
   "source": [
    "### グラフの設定"
   ]
  },
  {
   "cell_type": "code",
   "execution_count": 267,
   "id": "1b59eea6",
   "metadata": {},
   "outputs": [],
   "source": [
    "mpc_graphics = do_mpc.graphics.Graphics(mpc.data)\n",
    "sim_graphics = do_mpc.graphics.Graphics(simulator.data)"
   ]
  },
  {
   "cell_type": "code",
   "execution_count": 268,
   "id": "e91af37c",
   "metadata": {},
   "outputs": [],
   "source": [
    "%%capture\n",
    "# We just want to create the plot and not show it right now. This \"inline magic\" supresses the output.\n",
    "fig, ax = plt.subplots(4, sharex=True, figsize=(16,9))\n",
    "fig.align_ylabels()"
   ]
  },
  {
   "cell_type": "code",
   "execution_count": 269,
   "id": "344e215b",
   "metadata": {},
   "outputs": [],
   "source": [
    "%%capture\n",
    "for g in [sim_graphics, mpc_graphics]:\n",
    "#     g.add_line(var_type='_x', var_name='x', axis=ax[0])\n",
    "    g.add_line(var_type='_x', var_name='y', axis=ax[0])\n",
    "    g.add_line(var_type='_x', var_name='ψ', axis=ax[1])\n",
    "    g.add_line(var_type='_u', var_name='δ', axis=ax[2])\n",
    "    g.add_line(var_type='_x', var_name='φ', axis=ax[3])\n",
    "    \n",
    "ax[0].set_ylabel('[m]')\n",
    "ax[1].set_ylabel('azimuth [rad]')\n",
    "ax[2].set_ylabel('delta [rad]')\n",
    "ax[3].set_ylabel('φ [rad]')\n",
    "ax[3].set_xlabel('time [s]')"
   ]
  },
  {
   "cell_type": "markdown",
   "id": "0ff7f021",
   "metadata": {},
   "source": [
    "### MPCの最適化を実施"
   ]
  },
  {
   "cell_type": "code",
   "execution_count": 270,
   "id": "efaf9e19",
   "metadata": {},
   "outputs": [
    {
     "name": "stdout",
     "output_type": "stream",
     "text": [
      "This is Ipopt version 3.14.11, running with linear solver MUMPS 5.4.1.\n",
      "\n",
      "Number of nonzeros in equality constraint Jacobian...:     4148\n",
      "Number of nonzeros in inequality constraint Jacobian.:        0\n",
      "Number of nonzeros in Lagrangian Hessian.............:     1410\n",
      "\n",
      "Error evaluating Jacobian of equality constraints at user provided starting point.\n",
      "  No scaling factors for equality constraints computed!\n",
      "Total number of variables............................:     1052\n",
      "                     variables with only lower bounds:        0\n",
      "                variables with lower and upper bounds:      408\n",
      "                     variables with only upper bounds:        0\n",
      "Total number of equality constraints.................:      968\n",
      "Total number of inequality constraints...............:        0\n",
      "        inequality constraints with only lower bounds:        0\n",
      "   inequality constraints with lower and upper bounds:        0\n",
      "        inequality constraints with only upper bounds:        0\n",
      "\n",
      "iter    objective    inf_pr   inf_du lg(mu)  ||d||  lg(rg) alpha_du alpha_pr  ls\n",
      "   0  7.7500000e-02 3.00e+00 1.57e-02  -1.0 0.00e+00    -  0.00e+00 0.00e+00   0\n",
      "   1  6.2809323e-02 6.23e+00 7.75e-01  -1.0 5.00e+01  -4.0 8.87e-01 1.00e+00f  1\n",
      "   2  6.7275701e-02 5.46e+00 1.20e-01  -1.0 1.38e+01  -3.6 1.00e+00 1.00e+00f  1\n",
      "   3  6.8843566e-02 1.91e+00 4.16e-01  -1.0 1.01e+01  -4.1 4.93e-01 1.00e+00f  1\n",
      "   4  5.6188927e-02 3.46e+00 1.45e-01  -1.0 1.17e+01  -2.7 1.00e+00 1.00e+00h  1\n",
      "   5  5.5336110e-02 2.01e+00 3.91e-01  -1.0 3.33e+00  -2.3 1.00e+00 1.00e+00h  1\n",
      "   6  5.3174333e-02 1.09e+00 2.27e-01  -1.0 1.48e+00  -2.8 1.00e+00 1.00e+00h  1\n",
      "   7  5.1607636e-02 8.34e-01 4.70e-01  -1.0 1.47e+00  -3.3 1.00e+00 1.00e+00h  1\n",
      "   8  4.3286449e-02 5.98e-02 5.57e-02  -1.7 8.81e-01  -3.7 1.00e+00 1.00e+00h  1\n",
      "   9  3.0919230e-02 3.11e-01 5.42e-03  -2.5 2.10e+00  -4.2 1.00e+00 1.00e+00h  1\n",
      "iter    objective    inf_pr   inf_du lg(mu)  ||d||  lg(rg) alpha_du alpha_pr  ls\n",
      "  10  1.9441714e-02 1.03e-01 1.19e-03  -2.5 3.47e+00  -4.7 1.00e+00 1.00e+00h  1\n",
      "  11  7.9307976e-03 1.11e-01 7.45e-04  -2.5 4.84e+00  -5.2 1.00e+00 1.00e+00h  1\n",
      "  12  3.3242182e-03 1.61e-01 4.51e-04  -2.5 3.42e+00  -5.6 1.00e+00 1.00e+00h  1\n",
      "  13  2.7883529e-03 2.44e-02 5.44e-05  -2.5 1.04e+00  -6.1 1.00e+00 1.00e+00h  1\n",
      "  14  2.5155373e-03 1.87e-02 2.83e-04  -3.8 8.75e-01  -6.6 1.00e+00 1.00e+00h  1\n",
      "  15  2.5096364e-03 6.53e-03 5.24e-05  -3.8 1.01e-01  -7.1 1.00e+00 1.00e+00h  1\n",
      "  16  2.5096026e-03 3.35e-04 4.98e-07  -3.8 2.26e-02  -7.5 1.00e+00 1.00e+00h  1\n",
      "  17  2.5086822e-03 5.63e-04 5.97e-06  -5.7 9.25e-02  -8.0 1.00e+00 1.00e+00h  1\n",
      "  18  2.5077042e-03 4.58e-01 5.57e-06  -5.7 6.77e+01  -8.5 2.53e-01 6.60e-02h  2\n",
      "  19  2.5070563e-03 3.89e-02 4.82e-06  -5.7 9.20e-01  -9.0 1.00e+00 1.00e+00h  1\n",
      "iter    objective    inf_pr   inf_du lg(mu)  ||d||  lg(rg) alpha_du alpha_pr  ls\n",
      "  20  2.5069413e-03 1.28e-03 2.70e-08  -5.7 3.55e-01  -9.5 1.00e+00 1.00e+00h  1\n",
      "  21  2.5069401e-03 1.32e-07 8.18e-12  -5.7 1.63e-03  -9.9 1.00e+00 1.00e+00h  1\n",
      "  22  2.5061972e-03 3.54e-02 1.11e-06  -8.6 2.24e+00 -10.4 8.80e-01 1.00e+00h  1\n",
      "  23  2.5055683e-03 2.10e-01 1.21e-06  -8.6 2.83e+00 -10.9 8.40e-01 1.00e+00h  1\n",
      "  24  2.5054302e-03 1.88e-01 6.84e-07  -8.6 1.56e+00 -11.4 9.80e-01 1.00e+00h  1\n",
      "  25  2.5054075e-03 4.63e-01 8.43e-07  -8.6 9.95e-01 -11.8 1.00e+00 1.00e+00h  1\n",
      "  26  2.5054054e-03 3.89e-01 8.55e-07  -8.6 3.01e+00 -12.3 1.00e+00 1.19e-01h  4\n",
      "  27  2.5054009e-03 2.82e-01 5.50e-07  -8.6 1.51e+00 -12.8 1.00e+00 5.00e-01h  2\n",
      "  28  2.5053974e-03 6.25e-02 5.80e-08  -8.6 4.96e-01 -13.3 1.00e+00 1.00e+00h  1\n",
      "  29  2.5053973e-03 5.52e-05 3.76e-10  -8.6 1.52e-02 -13.7 1.00e+00 1.00e+00h  1\n",
      "iter    objective    inf_pr   inf_du lg(mu)  ||d||  lg(rg) alpha_du alpha_pr  ls\n",
      "  30  2.5053973e-03 1.46e-09 8.16e-15  -8.6 6.80e-05 -14.2 1.00e+00 1.00e+00h  1\n",
      "\n",
      "Number of Iterations....: 30\n",
      "\n",
      "                                   (scaled)                 (unscaled)\n",
      "Objective...............:   2.5053973220077550e-03    2.5053973220077550e-03\n",
      "Dual infeasibility......:   8.1630149079542265e-15    8.1630149079542265e-15\n",
      "Constraint violation....:   1.4578218632266271e-09    1.4578218632266271e-09\n",
      "Variable bound violation:   0.0000000000000000e+00    0.0000000000000000e+00\n",
      "Complementarity.........:   2.5059035596801685e-09    2.5059035596801685e-09\n",
      "Overall NLP error.......:   2.5059035596801685e-09    2.5059035596801685e-09\n",
      "\n",
      "\n",
      "Number of objective function evaluations             = 43\n",
      "Number of objective gradient evaluations             = 31\n",
      "Number of equality constraint evaluations            = 43\n",
      "Number of inequality constraint evaluations          = 0\n",
      "Number of equality constraint Jacobian evaluations   = 31\n",
      "Number of inequality constraint Jacobian evaluations = 0\n",
      "Number of Lagrangian Hessian evaluations             = 30\n",
      "Total seconds in IPOPT                               = 0.218\n",
      "\n",
      "EXIT: Optimal Solution Found.\n",
      "           S  :   t_proc      (avg)   t_wall      (avg)    n_eval\n",
      "       nlp_f  |        0 (       0)  57.00us (  1.33us)        43\n",
      "       nlp_g  |   6.00ms (139.53us)   7.25ms (168.60us)        43\n",
      "  nlp_grad_f  |        0 (       0) 176.00us (  5.50us)        32\n",
      "  nlp_hess_l  |  45.00ms (  1.50ms)  55.81ms (  1.86ms)        30\n",
      "   nlp_jac_g  |   7.00ms (218.75us)  17.15ms (535.94us)        32\n",
      "       total  | 216.00ms (216.00ms) 219.06ms (219.06ms)         1\n"
     ]
    },
    {
     "name": "stderr",
     "output_type": "stream",
     "text": [
      "CasADi - 2023-10-11 12:57:05 WARNING(\"S:nlp_jac_g failed: NaN detected for output jac_g_x, at nonzero index 24 (row 8, col 32).\") [.../casadi/core/oracle_function.cpp:326]\n"
     ]
    }
   ],
   "source": [
    "u0 = mpc.make_step(x0)"
   ]
  },
  {
   "cell_type": "code",
   "execution_count": 271,
   "id": "7d4fc01f",
   "metadata": {},
   "outputs": [
    {
     "name": "stdout",
     "output_type": "stream",
     "text": [
      "This is Ipopt version 3.14.11, running with linear solver MUMPS 5.4.1.\n",
      "\n",
      "Number of nonzeros in equality constraint Jacobian...:     4148\n",
      "Number of nonzeros in inequality constraint Jacobian.:        0\n",
      "Number of nonzeros in Lagrangian Hessian.............:     1410\n",
      "\n",
      "Total number of variables............................:     1052\n",
      "                     variables with only lower bounds:        0\n",
      "                variables with lower and upper bounds:      408\n",
      "                     variables with only upper bounds:        0\n",
      "Total number of equality constraints.................:      968\n",
      "Total number of inequality constraints...............:        0\n",
      "        inequality constraints with only lower bounds:        0\n",
      "   inequality constraints with lower and upper bounds:        0\n",
      "        inequality constraints with only upper bounds:        0\n",
      "\n",
      "iter    objective    inf_pr   inf_du lg(mu)  ||d||  lg(rg) alpha_du alpha_pr  ls\n",
      "   0  2.5001694e-03 1.08e-01 7.35e-06  -1.0 0.00e+00    -  0.00e+00 0.00e+00   0\n",
      "   1  5.0701770e-03 3.70e-01 3.60e-01  -1.0 2.03e+00  -4.0 9.95e-01 1.00e+00f  1\n",
      "   2  5.6315623e-03 1.68e-01 1.48e-01  -1.7 9.04e-01  -4.5 1.00e+00 1.00e+00h  1\n",
      "   3  3.3401080e-03 9.84e-02 2.73e-02  -2.5 9.79e-01  -5.0 1.00e+00 1.00e+00h  1\n",
      "   4  2.5776254e-03 4.40e-02 2.86e-03  -3.8 1.08e+00  -5.4 1.00e+00 1.00e+00h  1\n",
      "   5  2.5103859e-03 1.18e+00 8.73e-04  -3.8 4.88e+00  -5.9 1.00e+00 1.00e+00h  1\n",
      "   6  2.5024718e-03 1.89e-01 9.84e-04  -3.8 1.20e+00  -6.4 1.00e+00 1.00e+00h  1\n",
      "   7  2.5021288e-03 1.89e-01 8.24e-04  -3.8 7.77e-01  -6.9 1.00e+00 1.00e+00h  1\n",
      "   8  2.5017210e-03 1.39e-02 7.61e-05  -3.8 7.28e-02  -7.3 1.00e+00 1.00e+00h  1\n",
      "   9  2.5008271e-03 2.44e-04 6.35e-06  -5.7 7.46e-02  -7.8 1.00e+00 1.00e+00h  1\n",
      "iter    objective    inf_pr   inf_du lg(mu)  ||d||  lg(rg) alpha_du alpha_pr  ls\n",
      "  10  2.5005450e-03 4.23e-02 2.96e-06  -8.6 9.90e-01  -8.3 9.18e-01 1.00e+00h  1\n",
      "  11  2.5002725e-03 3.40e-01 1.55e-06  -8.6 4.08e+00  -8.8 8.56e-01 1.00e+00h  1\n",
      "  12  2.5001607e-03 3.75e-01 7.25e-07  -8.6 2.45e+00  -9.2 1.00e+00 1.00e+00h  1\n",
      "  13  2.5001443e-03 7.08e-01 3.30e-06  -8.6 1.46e+00  -9.7 1.00e+00 1.00e+00h  1\n",
      "  14  2.5001326e-03 1.23e+00 8.77e-07  -8.6 3.15e+01  -9.3 1.61e-01 4.51e-02h  2\n",
      "  15  2.5001352e-03 2.84e-02 4.77e-08  -8.6 2.86e-01  -9.8 1.00e+00 1.00e+00h  1\n",
      "  16  2.5001347e-03 2.49e-03 2.44e-09  -8.6 9.94e-02 -10.3 1.00e+00 1.00e+00h  1\n",
      "  17  2.5001347e-03 4.10e-06 8.36e-12  -8.6 3.37e-03 -10.7 1.00e+00 1.00e+00h  1\n",
      "  18  2.5001347e-03 5.33e-11 9.21e-17  -8.6 1.49e-05 -11.2 1.00e+00 1.00e+00h  1\n",
      "\n",
      "Number of Iterations....: 18\n",
      "\n",
      "                                   (scaled)                 (unscaled)\n",
      "Objective...............:   2.5001347238161379e-03    2.5001347238161379e-03\n",
      "Dual infeasibility......:   9.2051197854285093e-17    9.2051197854285093e-17\n",
      "Constraint violation....:   1.1770265677924396e-12    5.3332005478523570e-11\n",
      "Variable bound violation:   0.0000000000000000e+00    0.0000000000000000e+00\n",
      "Complementarity.........:   2.5059035596800564e-09    2.5059035596800564e-09\n",
      "Overall NLP error.......:   2.5059035596800564e-09    2.5059035596800564e-09\n",
      "\n",
      "\n",
      "Number of objective function evaluations             = 21\n",
      "Number of objective gradient evaluations             = 19\n",
      "Number of equality constraint evaluations            = 21\n",
      "Number of inequality constraint evaluations          = 0\n",
      "Number of equality constraint Jacobian evaluations   = 19\n",
      "Number of inequality constraint Jacobian evaluations = 0\n",
      "Number of Lagrangian Hessian evaluations             = 18\n",
      "Total seconds in IPOPT                               = 0.147\n",
      "\n",
      "EXIT: Optimal Solution Found.\n",
      "           S  :   t_proc      (avg)   t_wall      (avg)    n_eval\n",
      "       nlp_f  |        0 (       0)  95.00us (  1.48us)        64\n",
      "       nlp_g  |  10.00ms (156.25us)  10.99ms (171.72us)        64\n",
      "    nlp_grad  |        0 (       0) 444.00us (444.00us)         1\n",
      "  nlp_grad_f  |   1.00ms ( 19.23us) 283.00us (  5.44us)        52\n",
      "  nlp_hess_l  |  89.00ms (  1.85ms)  92.26ms (  1.92ms)        48\n",
      "   nlp_jac_g  |  26.00ms (500.00us)  28.30ms (544.25us)        52\n",
      "       total  | 152.00ms (152.00ms) 147.99ms (147.99ms)         1\n"
     ]
    }
   ],
   "source": [
    "u0 = mpc.make_step(x0)"
   ]
  },
  {
   "cell_type": "code",
   "execution_count": 272,
   "id": "c37ec2c7",
   "metadata": {},
   "outputs": [
    {
     "data": {
      "image/png": "[encoded data removed]",
      "text/plain": [
       "<Figure size 1600x900 with 4 Axes>"
      ]
     },
     "execution_count": 272,
     "metadata": {},
     "output_type": "execute_result"
    }
   ],
   "source": [
    "sim_graphics.clear()\n",
    "mpc_graphics.plot_predictions()\n",
    "mpc_graphics.reset_axes()\n",
    "# Show the figure:\n",
    "fig"
   ]
  },
  {
   "cell_type": "code",
   "execution_count": 273,
   "id": "60cb77a3",
   "metadata": {},
   "outputs": [],
   "source": [
    "# simulator.reset_history()\n",
    "# simulator.x0 = x0\n",
    "# mpc.reset_history()"
   ]
  },
  {
   "cell_type": "code",
   "execution_count": 274,
   "id": "4e432bbe",
   "metadata": {},
   "outputs": [
    {
     "ename": "RuntimeError",
     "evalue": "Error in Function::call for 'simulator' [CvodesInterface] at .../casadi/core/function.cpp:1401:\nError in Function::call for 'simulator' [CvodesInterface] at .../casadi/core/function.cpp:330:\n.../casadi/interfaces/sundials/cvodes_interface.cpp:392: CVode returned \"CV_TOO_MUCH_WORK\". Consult CVODES documentation.",
     "output_type": "error",
     "traceback": [
      "\u001b[1;31m---------------------------------------------------------------------------\u001b[0m",
      "\u001b[1;31mRuntimeError\u001b[0m                              Traceback (most recent call last)",
      "\u001b[1;32m~\\AppData\\Local\\Temp\\ipykernel_26556\\2317736485.py\u001b[0m in \u001b[0;36m?\u001b[1;34m()\u001b[0m\n\u001b[0;32m      1\u001b[0m \u001b[1;32mfor\u001b[0m \u001b[0mi\u001b[0m \u001b[1;32min\u001b[0m \u001b[0mrange\u001b[0m\u001b[1;33m(\u001b[0m\u001b[0mn_horizon\u001b[0m\u001b[1;33m)\u001b[0m\u001b[1;33m:\u001b[0m\u001b[1;33m\u001b[0m\u001b[1;33m\u001b[0m\u001b[0m\n\u001b[0;32m      2\u001b[0m     \u001b[0mu0\u001b[0m \u001b[1;33m=\u001b[0m \u001b[0mmpc\u001b[0m\u001b[1;33m.\u001b[0m\u001b[0mmake_step\u001b[0m\u001b[1;33m(\u001b[0m\u001b[0mx0\u001b[0m\u001b[1;33m)\u001b[0m\u001b[1;33m\u001b[0m\u001b[1;33m\u001b[0m\u001b[0m\n\u001b[1;32m----> 3\u001b[1;33m     \u001b[0mx0\u001b[0m \u001b[1;33m=\u001b[0m \u001b[0msimulator\u001b[0m\u001b[1;33m.\u001b[0m\u001b[0mmake_step\u001b[0m\u001b[1;33m(\u001b[0m\u001b[0mu0\u001b[0m\u001b[1;33m)\u001b[0m\u001b[1;33m\u001b[0m\u001b[1;33m\u001b[0m\u001b[0m\n\u001b[0m",
      "\u001b[1;32mc:\\Users\\yamamoto\\AppData\\Local\\Programs\\Python\\Python310\\lib\\site-packages\\do_mpc\\simulator.py\u001b[0m in \u001b[0;36m?\u001b[1;34m(self, u0, v0, w0)\u001b[0m\n\u001b[0;32m    629\u001b[0m         \u001b[1;32melse\u001b[0m\u001b[1;33m:\u001b[0m\u001b[1;33m\u001b[0m\u001b[1;33m\u001b[0m\u001b[0m\n\u001b[0;32m    630\u001b[0m             \u001b[1;31m# .master is chosen so that a copy is created of the variables.\u001b[0m\u001b[1;33m\u001b[0m\u001b[1;33m\u001b[0m\u001b[0m\n\u001b[0;32m    631\u001b[0m             \u001b[0maux0\u001b[0m \u001b[1;33m=\u001b[0m \u001b[0mself\u001b[0m\u001b[1;33m.\u001b[0m\u001b[0msim_aux_num\u001b[0m\u001b[1;33m.\u001b[0m\u001b[0mmaster\u001b[0m\u001b[1;33m\u001b[0m\u001b[1;33m\u001b[0m\u001b[0m\n\u001b[0;32m    632\u001b[0m \u001b[1;33m\u001b[0m\u001b[0m\n\u001b[1;32m--> 633\u001b[1;33m         \u001b[0mx_next\u001b[0m \u001b[1;33m=\u001b[0m \u001b[0mself\u001b[0m\u001b[1;33m.\u001b[0m\u001b[0msimulate\u001b[0m\u001b[1;33m(\u001b[0m\u001b[1;33m)\u001b[0m\u001b[1;33m\u001b[0m\u001b[1;33m\u001b[0m\u001b[0m\n\u001b[0m\u001b[0;32m    634\u001b[0m \u001b[1;33m\u001b[0m\u001b[0m\n\u001b[0;32m    635\u001b[0m         \u001b[1;31m# Call measurement function\u001b[0m\u001b[1;33m\u001b[0m\u001b[1;33m\u001b[0m\u001b[0m\n\u001b[0;32m    636\u001b[0m         \u001b[0mz_next\u001b[0m \u001b[1;33m=\u001b[0m \u001b[0mself\u001b[0m\u001b[1;33m.\u001b[0m\u001b[0msim_z_num\u001b[0m\u001b[1;33m[\u001b[0m\u001b[1;34m'_z'\u001b[0m\u001b[1;33m]\u001b[0m\u001b[1;33m\u001b[0m\u001b[1;33m\u001b[0m\u001b[0m\n",
      "\u001b[1;32mc:\\Users\\yamamoto\\AppData\\Local\\Programs\\Python\\Python310\\lib\\site-packages\\do_mpc\\simulator.py\u001b[0m in \u001b[0;36m?\u001b[1;34m(self)\u001b[0m\n\u001b[0;32m    547\u001b[0m                 \u001b[0mr\u001b[0m \u001b[1;33m=\u001b[0m \u001b[0mself\u001b[0m\u001b[1;33m.\u001b[0m\u001b[0mdiscrete_dae_solver\u001b[0m\u001b[1;33m(\u001b[0m\u001b[0mx0\u001b[0m \u001b[1;33m=\u001b[0m \u001b[0msim_z_num\u001b[0m\u001b[1;33m,\u001b[0m \u001b[0mubg\u001b[0m \u001b[1;33m=\u001b[0m \u001b[1;36m0\u001b[0m\u001b[1;33m,\u001b[0m \u001b[0mlbg\u001b[0m \u001b[1;33m=\u001b[0m \u001b[1;36m0\u001b[0m\u001b[1;33m,\u001b[0m \u001b[0mp\u001b[0m\u001b[1;33m=\u001b[0m\u001b[0mcastools\u001b[0m\u001b[1;33m.\u001b[0m\u001b[0mvertcat\u001b[0m\u001b[1;33m(\u001b[0m\u001b[0msim_x_num\u001b[0m\u001b[1;33m,\u001b[0m\u001b[0msim_p_num\u001b[0m\u001b[1;33m)\u001b[0m\u001b[1;33m)\u001b[0m\u001b[1;33m\u001b[0m\u001b[1;33m\u001b[0m\u001b[0m\n\u001b[0;32m    548\u001b[0m                 \u001b[0msim_z_num\u001b[0m\u001b[1;33m.\u001b[0m\u001b[0mmaster\u001b[0m \u001b[1;33m=\u001b[0m \u001b[0mr\u001b[0m\u001b[1;33m[\u001b[0m\u001b[1;34m'x'\u001b[0m\u001b[1;33m]\u001b[0m\u001b[1;33m\u001b[0m\u001b[1;33m\u001b[0m\u001b[0m\n\u001b[0;32m    549\u001b[0m             \u001b[0mx_new\u001b[0m \u001b[1;33m=\u001b[0m \u001b[0mself\u001b[0m\u001b[1;33m.\u001b[0m\u001b[0msimulator\u001b[0m\u001b[1;33m(\u001b[0m\u001b[0msim_x_num\u001b[0m\u001b[1;33m,\u001b[0m \u001b[0msim_z_num\u001b[0m\u001b[1;33m,\u001b[0m \u001b[0msim_p_num\u001b[0m\u001b[1;33m)\u001b[0m\u001b[1;33m\u001b[0m\u001b[1;33m\u001b[0m\u001b[0m\n\u001b[0;32m    550\u001b[0m         \u001b[1;32melif\u001b[0m \u001b[0mself\u001b[0m\u001b[1;33m.\u001b[0m\u001b[0mmodel\u001b[0m\u001b[1;33m.\u001b[0m\u001b[0mmodel_type\u001b[0m \u001b[1;33m==\u001b[0m \u001b[1;34m'continuous'\u001b[0m\u001b[1;33m:\u001b[0m\u001b[1;33m\u001b[0m\u001b[1;33m\u001b[0m\u001b[0m\n\u001b[1;32m--> 551\u001b[1;33m             \u001b[0mr\u001b[0m \u001b[1;33m=\u001b[0m \u001b[0mself\u001b[0m\u001b[1;33m.\u001b[0m\u001b[0msimulator\u001b[0m\u001b[1;33m(\u001b[0m\u001b[0mx0\u001b[0m \u001b[1;33m=\u001b[0m \u001b[0msim_x_num\u001b[0m\u001b[1;33m,\u001b[0m \u001b[0mz0\u001b[0m \u001b[1;33m=\u001b[0m \u001b[0msim_z_num\u001b[0m\u001b[1;33m,\u001b[0m \u001b[0mp\u001b[0m \u001b[1;33m=\u001b[0m \u001b[0msim_p_num\u001b[0m\u001b[1;33m)\u001b[0m\u001b[1;33m\u001b[0m\u001b[1;33m\u001b[0m\u001b[0m\n\u001b[0m\u001b[0;32m    552\u001b[0m             \u001b[0mx_new\u001b[0m \u001b[1;33m=\u001b[0m \u001b[0mr\u001b[0m\u001b[1;33m[\u001b[0m\u001b[1;34m'xf'\u001b[0m\u001b[1;33m]\u001b[0m\u001b[1;33m\u001b[0m\u001b[1;33m\u001b[0m\u001b[0m\n\u001b[0;32m    553\u001b[0m             \u001b[0mz_new\u001b[0m \u001b[1;33m=\u001b[0m \u001b[0mr\u001b[0m\u001b[1;33m[\u001b[0m\u001b[1;34m'zf'\u001b[0m\u001b[1;33m]\u001b[0m\u001b[1;33m\u001b[0m\u001b[1;33m\u001b[0m\u001b[0m\n\u001b[0;32m    554\u001b[0m             \u001b[0msim_z_num\u001b[0m\u001b[1;33m.\u001b[0m\u001b[0mmaster\u001b[0m \u001b[1;33m=\u001b[0m \u001b[0mz_new\u001b[0m\u001b[1;33m\u001b[0m\u001b[1;33m\u001b[0m\u001b[0m\n",
      "\u001b[1;32mc:\\Users\\yamamoto\\AppData\\Local\\Programs\\Python\\Python310\\lib\\site-packages\\casadi\\casadi.py\u001b[0m in \u001b[0;36m?\u001b[1;34m(self, *args, **kwargs)\u001b[0m\n\u001b[0;32m  23368\u001b[0m         \u001b[1;32melse\u001b[0m\u001b[1;33m:\u001b[0m\u001b[1;33m\u001b[0m\u001b[1;33m\u001b[0m\u001b[0m\n\u001b[0;32m  23369\u001b[0m           \u001b[1;32mreturn\u001b[0m \u001b[0mtuple\u001b[0m\u001b[1;33m(\u001b[0m\u001b[0mret\u001b[0m\u001b[1;33m)\u001b[0m\u001b[1;33m\u001b[0m\u001b[1;33m\u001b[0m\u001b[0m\n\u001b[0;32m  23370\u001b[0m       \u001b[1;32melse\u001b[0m\u001b[1;33m:\u001b[0m\u001b[1;33m\u001b[0m\u001b[1;33m\u001b[0m\u001b[0m\n\u001b[0;32m  23371\u001b[0m     \u001b[1;31m# Named inputs -> return dictionary\u001b[0m\u001b[1;33m\u001b[0m\u001b[1;33m\u001b[0m\u001b[0m\n\u001b[1;32m> 23372\u001b[1;33m         \u001b[1;32mreturn\u001b[0m \u001b[0mself\u001b[0m\u001b[1;33m.\u001b[0m\u001b[0mcall\u001b[0m\u001b[1;33m(\u001b[0m\u001b[0mkwargs\u001b[0m\u001b[1;33m)\u001b[0m\u001b[1;33m\u001b[0m\u001b[1;33m\u001b[0m\u001b[0m\n\u001b[0m",
      "\u001b[1;32mc:\\Users\\yamamoto\\AppData\\Local\\Programs\\Python\\Python310\\lib\\site-packages\\casadi\\casadi.py\u001b[0m in \u001b[0;36m?\u001b[1;34m(self, *args)\u001b[0m\n\u001b[0;32m  20017\u001b[0m \u001b[1;33m\u001b[0m\u001b[0m\n\u001b[0;32m  20018\u001b[0m \u001b[1;33m\u001b[0m\u001b[0m\n\u001b[0;32m  20019\u001b[0m \u001b[1;33m\u001b[0m\u001b[0m\n\u001b[0;32m  20020\u001b[0m         \"\"\"\n\u001b[1;32m> 20021\u001b[1;33m         \u001b[1;32mreturn\u001b[0m \u001b[0m_casadi\u001b[0m\u001b[1;33m.\u001b[0m\u001b[0mFunction_call\u001b[0m\u001b[1;33m(\u001b[0m\u001b[0mself\u001b[0m\u001b[1;33m,\u001b[0m \u001b[1;33m*\u001b[0m\u001b[0margs\u001b[0m\u001b[1;33m)\u001b[0m\u001b[1;33m\u001b[0m\u001b[1;33m\u001b[0m\u001b[0m\n\u001b[0m",
      "\u001b[1;31mRuntimeError\u001b[0m: Error in Function::call for 'simulator' [CvodesInterface] at .../casadi/core/function.cpp:1401:\nError in Function::call for 'simulator' [CvodesInterface] at .../casadi/core/function.cpp:330:\n.../casadi/interfaces/sundials/cvodes_interface.cpp:392: CVode returned \"CV_TOO_MUCH_WORK\". Consult CVODES documentation."
     ]
    }
   ],
   "source": [
    "%%capture\n",
    "for i in range(n_horizon):\n",
    "    u0 = mpc.make_step(x0)\n",
    "    x0 = simulator.make_step(u0)"
   ]
  },
  {
   "cell_type": "code",
   "execution_count": 275,
   "id": "e09f8279",
   "metadata": {},
   "outputs": [
    {
     "data": {
      "image/png": "[encoded data removed]",
      "text/plain": [
       "<Figure size 1600x900 with 4 Axes>"
      ]
     },
     "execution_count": 275,
     "metadata": {},
     "output_type": "execute_result"
    }
   ],
   "source": [
    "sim_graphics.clear()\n",
    "mpc_graphics.clear()\n",
    "# Plot predictions from t=0\n",
    "# mpc_graphics.plot_predictions(t_ind=0)\n",
    "# Plot results until current time\n",
    "sim_graphics.plot_results()\n",
    "sim_graphics.reset_axes()\n",
    "fig"
   ]
  },
  {
   "cell_type": "code",
   "execution_count": null,
   "id": "cab45143",
   "metadata": {},
   "outputs": [],
   "source": []
  }
 ],
 "metadata": {
  "kernelspec": {
   "display_name": "Python 3 (ipykernel)",
   "language": "python",
   "name": "python3"
  },
  "language_info": {
   "codemirror_mode": {
    "name": "ipython",
    "version": 3
   },
   "file_extension": ".py",
   "mimetype": "text/x-python",
   "name": "python",
   "nbconvert_exporter": "python",
   "pygments_lexer": "ipython3",
   "version": "3.10.9"
  }
 },
 "nbformat": 4,
 "nbformat_minor": 5
}
